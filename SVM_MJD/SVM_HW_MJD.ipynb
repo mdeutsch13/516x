{
 "cells": [
  {
   "cell_type": "markdown",
   "metadata": {},
   "source": [
    "# Homework SVM"
   ]
  },
  {
   "cell_type": "markdown",
   "metadata": {},
   "source": [
    "Mark Deutsch \n",
    "10/22/2019\n",
    "ABE 516X"
   ]
  },
  {
   "cell_type": "markdown",
   "metadata": {},
   "source": [
    "In this homework, I implement SVM on a dataset of my choice. The dataset I chose is about divorces. Researchers asked married\n",
    "and divorced couples to answer 54 questions on a scale of 0-4. The study also recorded the class, divorced or married. \n",
    "Class = 1 means the couple is divorced. Class = 0 means the couple is divorced. The attributes in this dataset are the questions that were asked to the couple. The goal of this homework assignment is to\n",
    "use machine learning to predict if a couple is divorced or married based on the answers to these questions. \n",
    "The questions are:\n",
    "1. When one of our apologies apologizes when our discussions go in a bad direction, the issue does not extend. \n",
    "2. I know we can ignore our differences, even if things get hard sometimes. \n",
    "3. When we need it, we can take our discussions with my wife from the beginning and correct it. \n",
    "4. When I argue with my wife, it will eventually work for me to contact him. \n",
    "5. The time I spent with my wife is special for us. \n",
    "6. We don't have time at home as partners. \n",
    "7. We are like two strangers who share the same environment at home rather than family. \n",
    "8. I enjoy our holidays with my wife. \n",
    "9. I enjoy traveling with my wife. \n",
    "10. My wife and most of our goals are common. \n",
    "11. I think that one day in the future, when I look back, I see that my wife and I are in harmony with each other. \n",
    "12. My wife and I have similar values in terms of personal freedom. \n",
    "13. My husband and I have similar entertainment. \n",
    "14. Most of our goals for people (children, friends, etc.) are the same. \n",
    "15. Our dreams of living with my wife are similar and harmonious \n",
    "16. We're compatible with my wife about what love should be \n",
    "17. We share the same views with my wife about being happy in your life \n",
    "18. My wife and I have similar ideas about how marriage should be \n",
    "19. My wife and I have similar ideas about how roles should be in marriage \n",
    "20. My wife and I have similar values in trust \n",
    "21. I know exactly what my wife likes. \n",
    "22. I know how my wife wants to be taken care of when she's sick. \n",
    "23. I know my wife's favorite food. \n",
    "24. I can tell you what kind of stress my wife is facing in her life. \n",
    "25. I have knowledge of my wife's inner world. \n",
    "26. I know my wife's basic concerns. \n",
    "27. I know what my wife's current sources of stress are. \n",
    "28. I know my wife's hopes and wishes. \n",
    "29. I know my wife very well. \n",
    "30. I know my wife's friends and their social relationships. \n",
    "31. I feel aggressive when I argue with my wife. \n",
    "32. When discussing with my wife, I usually use expressions such as â€œyou alwaysâ€œ or â€œyou neverâ€. \n",
    "33. I can use negative statements about my wife's personality during our discussions. \n",
    "34. I can use offensive expressions during our discussions. \n",
    "35. I can insult our discussions. \n",
    "36. I can be humiliating when we argue. \n",
    "37. My argument with my wife is not calm. \n",
    "38. I hate my wife's way of bringing it up. \n",
    "39. Fights often occur suddenly. \n",
    "40. We're just starting a fight before I know what's going on. \n",
    "41. When I talk to my wife about something, my calm suddenly breaks. \n",
    "42. When I argue with my wife, it only snaps in and I don't say a word. \n",
    "43. I'm mostly thirsty to calm the environment a little bit. \n",
    "44. Sometimes I think it's good for me to leave home for a while. \n",
    "45. I'd rather stay silent than argue with my wife. \n",
    "46. Even if I'm right in the argument, I'm thirsty not to upset the other side. \n",
    "47. When I argue with my wife, I remain silent because I am afraid of not being able to control my anger. \n",
    "48. I feel right in our discussions. \n",
    "49. I have nothing to do with what I've been accused of. \n",
    "50. I'm not actually the one who's guilty about what I'm accused of. \n",
    "51. I'm not the one who's wrong about problems at home. \n",
    "52. I wouldn't hesitate to tell her about my wife's inadequacy. \n",
    "53. When I discuss it, I remind her of my wife's inadequate issues. \n",
    "54. I'm not afraid to tell her about my wife's incompetence.\n"
   ]
  },
  {
   "cell_type": "code",
   "execution_count": 4,
   "metadata": {},
   "outputs": [
    {
     "data": {
      "text/html": [
       "<div>\n",
       "<style scoped>\n",
       "    .dataframe tbody tr th:only-of-type {\n",
       "        vertical-align: middle;\n",
       "    }\n",
       "\n",
       "    .dataframe tbody tr th {\n",
       "        vertical-align: top;\n",
       "    }\n",
       "\n",
       "    .dataframe thead th {\n",
       "        text-align: right;\n",
       "    }\n",
       "</style>\n",
       "<table border=\"1\" class=\"dataframe\">\n",
       "  <thead>\n",
       "    <tr style=\"text-align: right;\">\n",
       "      <th></th>\n",
       "      <th>Atr1</th>\n",
       "      <th>Atr2</th>\n",
       "      <th>Atr3</th>\n",
       "      <th>Atr4</th>\n",
       "      <th>Atr5</th>\n",
       "      <th>Atr6</th>\n",
       "      <th>Atr7</th>\n",
       "      <th>Atr8</th>\n",
       "      <th>Atr9</th>\n",
       "      <th>Atr10</th>\n",
       "      <th>...</th>\n",
       "      <th>Atr46</th>\n",
       "      <th>Atr47</th>\n",
       "      <th>Atr48</th>\n",
       "      <th>Atr49</th>\n",
       "      <th>Atr50</th>\n",
       "      <th>Atr51</th>\n",
       "      <th>Atr52</th>\n",
       "      <th>Atr53</th>\n",
       "      <th>Atr54</th>\n",
       "      <th>Class</th>\n",
       "    </tr>\n",
       "  </thead>\n",
       "  <tbody>\n",
       "    <tr>\n",
       "      <th>0</th>\n",
       "      <td>2</td>\n",
       "      <td>2</td>\n",
       "      <td>4</td>\n",
       "      <td>1</td>\n",
       "      <td>0</td>\n",
       "      <td>0</td>\n",
       "      <td>0</td>\n",
       "      <td>0</td>\n",
       "      <td>0</td>\n",
       "      <td>0</td>\n",
       "      <td>...</td>\n",
       "      <td>2</td>\n",
       "      <td>1</td>\n",
       "      <td>3</td>\n",
       "      <td>3</td>\n",
       "      <td>3</td>\n",
       "      <td>2</td>\n",
       "      <td>3</td>\n",
       "      <td>2</td>\n",
       "      <td>1</td>\n",
       "      <td>1</td>\n",
       "    </tr>\n",
       "    <tr>\n",
       "      <th>1</th>\n",
       "      <td>4</td>\n",
       "      <td>4</td>\n",
       "      <td>4</td>\n",
       "      <td>4</td>\n",
       "      <td>4</td>\n",
       "      <td>0</td>\n",
       "      <td>0</td>\n",
       "      <td>4</td>\n",
       "      <td>4</td>\n",
       "      <td>4</td>\n",
       "      <td>...</td>\n",
       "      <td>2</td>\n",
       "      <td>2</td>\n",
       "      <td>3</td>\n",
       "      <td>4</td>\n",
       "      <td>4</td>\n",
       "      <td>4</td>\n",
       "      <td>4</td>\n",
       "      <td>2</td>\n",
       "      <td>2</td>\n",
       "      <td>1</td>\n",
       "    </tr>\n",
       "    <tr>\n",
       "      <th>2</th>\n",
       "      <td>2</td>\n",
       "      <td>2</td>\n",
       "      <td>2</td>\n",
       "      <td>2</td>\n",
       "      <td>1</td>\n",
       "      <td>3</td>\n",
       "      <td>2</td>\n",
       "      <td>1</td>\n",
       "      <td>1</td>\n",
       "      <td>2</td>\n",
       "      <td>...</td>\n",
       "      <td>3</td>\n",
       "      <td>2</td>\n",
       "      <td>3</td>\n",
       "      <td>1</td>\n",
       "      <td>1</td>\n",
       "      <td>1</td>\n",
       "      <td>2</td>\n",
       "      <td>2</td>\n",
       "      <td>2</td>\n",
       "      <td>1</td>\n",
       "    </tr>\n",
       "    <tr>\n",
       "      <th>3</th>\n",
       "      <td>3</td>\n",
       "      <td>2</td>\n",
       "      <td>3</td>\n",
       "      <td>2</td>\n",
       "      <td>3</td>\n",
       "      <td>3</td>\n",
       "      <td>3</td>\n",
       "      <td>3</td>\n",
       "      <td>3</td>\n",
       "      <td>3</td>\n",
       "      <td>...</td>\n",
       "      <td>2</td>\n",
       "      <td>2</td>\n",
       "      <td>3</td>\n",
       "      <td>3</td>\n",
       "      <td>3</td>\n",
       "      <td>3</td>\n",
       "      <td>2</td>\n",
       "      <td>2</td>\n",
       "      <td>2</td>\n",
       "      <td>1</td>\n",
       "    </tr>\n",
       "    <tr>\n",
       "      <th>4</th>\n",
       "      <td>2</td>\n",
       "      <td>2</td>\n",
       "      <td>1</td>\n",
       "      <td>1</td>\n",
       "      <td>1</td>\n",
       "      <td>1</td>\n",
       "      <td>0</td>\n",
       "      <td>0</td>\n",
       "      <td>0</td>\n",
       "      <td>0</td>\n",
       "      <td>...</td>\n",
       "      <td>2</td>\n",
       "      <td>1</td>\n",
       "      <td>2</td>\n",
       "      <td>3</td>\n",
       "      <td>2</td>\n",
       "      <td>2</td>\n",
       "      <td>2</td>\n",
       "      <td>1</td>\n",
       "      <td>0</td>\n",
       "      <td>1</td>\n",
       "    </tr>\n",
       "  </tbody>\n",
       "</table>\n",
       "<p>5 rows × 55 columns</p>\n",
       "</div>"
      ],
      "text/plain": [
       "   Atr1  Atr2  Atr3  Atr4  Atr5  Atr6  Atr7  Atr8  Atr9  Atr10  ...  Atr46  \\\n",
       "0     2     2     4     1     0     0     0     0     0      0  ...      2   \n",
       "1     4     4     4     4     4     0     0     4     4      4  ...      2   \n",
       "2     2     2     2     2     1     3     2     1     1      2  ...      3   \n",
       "3     3     2     3     2     3     3     3     3     3      3  ...      2   \n",
       "4     2     2     1     1     1     1     0     0     0      0  ...      2   \n",
       "\n",
       "   Atr47  Atr48  Atr49  Atr50  Atr51  Atr52  Atr53  Atr54  Class  \n",
       "0      1      3      3      3      2      3      2      1      1  \n",
       "1      2      3      4      4      4      4      2      2      1  \n",
       "2      2      3      1      1      1      2      2      2      1  \n",
       "3      2      3      3      3      3      2      2      2      1  \n",
       "4      1      2      3      2      2      2      1      0      1  \n",
       "\n",
       "[5 rows x 55 columns]"
      ]
     },
     "execution_count": 4,
     "metadata": {},
     "output_type": "execute_result"
    }
   ],
   "source": [
    "#Pull in the dataset\n",
    "import pandas as pd\n",
    "divorce = pd.read_csv('divorce.csv')\n",
    "divorce.head()"
   ]
  },
  {
   "cell_type": "code",
   "execution_count": 6,
   "metadata": {},
   "outputs": [
    {
     "data": {
      "text/plain": [
       "<seaborn.axisgrid.PairGrid at 0x2346bd43470>"
      ]
     },
     "execution_count": 6,
     "metadata": {},
     "output_type": "execute_result"
    },
    {
     "data": {
      "image/png": "[encoded data removed]",
      "text/plain": [
       "<Figure size 762.375x720 with 20 Axes>"
      ]
     },
     "metadata": {
      "needs_background": "light"
     },
     "output_type": "display_data"
    }
   ],
   "source": [
    "#plot different attributes to see if they are somehow correlated to class\n",
    "import seaborn as sns\n",
    "sns.pairplot(divorce, hue = 'Class', vars = ['Atr2','Atr3','Atr4','Atr5'])"
   ]
  },
  {
   "cell_type": "code",
   "execution_count": 7,
   "metadata": {},
   "outputs": [
    {
     "data": {
      "text/plain": [
       "(170,)"
      ]
     },
     "execution_count": 7,
     "metadata": {},
     "output_type": "execute_result"
    }
   ],
   "source": [
    "#define the Y as the last column in the dataset\n",
    "Y = divorce.iloc[:,54].values\n",
    "Y.shape"
   ]
  },
  {
   "cell_type": "code",
   "execution_count": 8,
   "metadata": {},
   "outputs": [
    {
     "data": {
      "text/plain": [
       "(170, 54)"
      ]
     },
     "execution_count": 8,
     "metadata": {},
     "output_type": "execute_result"
    }
   ],
   "source": [
    "#define the X as all of the questions in the dataset\n",
    "X = divorce.iloc[:,0:54].values\n",
    "X.shape"
   ]
  },
  {
   "cell_type": "code",
   "execution_count": 10,
   "metadata": {},
   "outputs": [
    {
     "name": "stdout",
     "output_type": "stream",
     "text": [
      "(127, 54)\n",
      "(43, 54)\n",
      "(127,)\n",
      "(43,)\n"
     ]
    }
   ],
   "source": [
    "#define test and training datasets\n",
    "from sklearn.model_selection import train_test_split\n",
    "X_train, X_test, Y_train, Y_test = train_test_split(X, Y, test_size = 0.25, random_state = 0)\n",
    "print(X_train.shape)\n",
    "print(X_test.shape)\n",
    "print(Y_train.shape)\n",
    "print(Y_test.shape)"
   ]
  },
  {
   "cell_type": "code",
   "execution_count": 11,
   "metadata": {},
   "outputs": [
    {
     "data": {
      "text/plain": [
       "SVC(C=1.0, cache_size=200, class_weight=None, coef0=0.0,\n",
       "    decision_function_shape='ovr', degree=3, gamma='auto', kernel='linear',\n",
       "    max_iter=-1, probability=False, random_state=0, shrinking=True, tol=0.001,\n",
       "    verbose=False)"
      ]
     },
     "execution_count": 11,
     "metadata": {},
     "output_type": "execute_result"
    }
   ],
   "source": [
    "#use the SVC tool to fit a line in my training data\n",
    "from sklearn.svm import SVC\n",
    "classifier = SVC(kernel = 'linear', random_state = 0, gamma = 'auto')\n",
    "classifier.fit(X_train, Y_train)"
   ]
  },
  {
   "cell_type": "code",
   "execution_count": 12,
   "metadata": {},
   "outputs": [],
   "source": [
    "#give the model test data and let it predict Y\n",
    "classprediction = classifier.predict(X_test)"
   ]
  },
  {
   "cell_type": "code",
   "execution_count": 13,
   "metadata": {},
   "outputs": [
    {
     "data": {
      "text/plain": [
       "array([[22,  0],\n",
       "       [ 2, 19]], dtype=int64)"
      ]
     },
     "execution_count": 13,
     "metadata": {},
     "output_type": "execute_result"
    }
   ],
   "source": [
    "#The confusion matrix shows that of the 24 divorced couples, the model predicted that 2 of them were married. Of the 19 married\n",
    "#couples, the model predicted that 19 were married.\n",
    "from sklearn.metrics import confusion_matrix\n",
    "cm = confusion_matrix(Y_test, classprediction)\n",
    "cm"
   ]
  },
  {
   "cell_type": "code",
   "execution_count": 14,
   "metadata": {},
   "outputs": [
    {
     "data": {
      "text/plain": [
       "0.9534883720930233"
      ]
     },
     "execution_count": 14,
     "metadata": {},
     "output_type": "execute_result"
    }
   ],
   "source": [
    "#The accuracy was 95%\n",
    "from sklearn import metrics\n",
    "howgood = metrics.accuracy_score(Y_test, classprediction)\n",
    "howgood"
   ]
  },
  {
   "cell_type": "markdown",
   "metadata": {},
   "source": [
    "# Discussion Part 1"
   ]
  },
  {
   "cell_type": "markdown",
   "metadata": {},
   "source": [
    "The results of part one show that the SVM model was able to accurately determine the class 95% of the time. This is pretty good, but how could it be made better? This model uses all of the questions that were asked to the participants. What if all of the questions do not have clear definition between classes? What if the accuracy could be improved if only the most significant questions were used in the model. In part two, I will determine which questions were the most significant in determining if the couple was divorced or married. I will then re-run the model to see if I can improve the accuracy. "
   ]
  },
  {
   "cell_type": "code",
   "execution_count": 29,
   "metadata": {},
   "outputs": [],
   "source": [
    "#Use a statistical test to determine the chi-squared values for each attribute\n",
    "from sklearn.feature_selection import SelectKBest, chi2\n",
    "fit = SelectKBest(chi2).fit(X, Y)"
   ]
  },
  {
   "cell_type": "code",
   "execution_count": 30,
   "metadata": {},
   "outputs": [
    {
     "data": {
      "text/plain": [
       "array([186.88480635, 148.56466779, 124.8627261 , 173.30274965,\n",
       "       233.04633622,  32.75643306,  82.00000659, 210.31692828,\n",
       "       234.06994829, 151.00039875, 229.05224166, 166.52922248,\n",
       "       143.62384644, 181.53125868, 198.3981008 , 203.43346216,\n",
       "       230.17948081, 232.75429018, 239.13623049, 230.19977316,\n",
       "       191.86480329, 193.44124407, 218.1977321 , 178.2584123 ,\n",
       "       178.36037117, 194.78408817, 193.88834836, 199.83538605,\n",
       "       228.6746802 , 195.78990635, 135.61506121, 148.6996124 ,\n",
       "       221.26349735, 164.94121933, 255.47433633, 267.48902924,\n",
       "       177.74183863, 213.48922018, 192.1763137 , 256.79032157,\n",
       "       200.95660156, 106.1025706 ,  36.41244162, 177.31870197,\n",
       "        46.17412453,  24.49837459,  80.75414852,  30.63950399,\n",
       "        88.92747768,  78.33819472,  52.00261993,  62.11258551,\n",
       "        86.45775237, 152.05241949])"
      ]
     },
     "execution_count": 30,
     "metadata": {},
     "output_type": "execute_result"
    }
   ],
   "source": [
    "#List the chi-squared values for each of the attributes\n",
    "fit.scores_"
   ]
  },
  {
   "cell_type": "code",
   "execution_count": 31,
   "metadata": {},
   "outputs": [
    {
     "data": {
      "text/html": [
       "<div>\n",
       "<style scoped>\n",
       "    .dataframe tbody tr th:only-of-type {\n",
       "        vertical-align: middle;\n",
       "    }\n",
       "\n",
       "    .dataframe tbody tr th {\n",
       "        vertical-align: top;\n",
       "    }\n",
       "\n",
       "    .dataframe thead th {\n",
       "        text-align: right;\n",
       "    }\n",
       "</style>\n",
       "<table border=\"1\" class=\"dataframe\">\n",
       "  <thead>\n",
       "    <tr style=\"text-align: right;\">\n",
       "      <th></th>\n",
       "      <th>Atr3</th>\n",
       "      <th>Atr7</th>\n",
       "      <th>Atr17</th>\n",
       "      <th>Atr33</th>\n",
       "      <th>Atr34</th>\n",
       "      <th>Atr38</th>\n",
       "      <th>Class</th>\n",
       "    </tr>\n",
       "  </thead>\n",
       "  <tbody>\n",
       "    <tr>\n",
       "      <th>0</th>\n",
       "      <td>4</td>\n",
       "      <td>0</td>\n",
       "      <td>0</td>\n",
       "      <td>1</td>\n",
       "      <td>2</td>\n",
       "      <td>1</td>\n",
       "      <td>1</td>\n",
       "    </tr>\n",
       "    <tr>\n",
       "      <th>1</th>\n",
       "      <td>4</td>\n",
       "      <td>0</td>\n",
       "      <td>4</td>\n",
       "      <td>2</td>\n",
       "      <td>3</td>\n",
       "      <td>4</td>\n",
       "      <td>1</td>\n",
       "    </tr>\n",
       "    <tr>\n",
       "      <th>2</th>\n",
       "      <td>2</td>\n",
       "      <td>2</td>\n",
       "      <td>3</td>\n",
       "      <td>1</td>\n",
       "      <td>1</td>\n",
       "      <td>1</td>\n",
       "      <td>1</td>\n",
       "    </tr>\n",
       "    <tr>\n",
       "      <th>3</th>\n",
       "      <td>3</td>\n",
       "      <td>3</td>\n",
       "      <td>3</td>\n",
       "      <td>2</td>\n",
       "      <td>2</td>\n",
       "      <td>3</td>\n",
       "      <td>1</td>\n",
       "    </tr>\n",
       "    <tr>\n",
       "      <th>4</th>\n",
       "      <td>1</td>\n",
       "      <td>0</td>\n",
       "      <td>1</td>\n",
       "      <td>1</td>\n",
       "      <td>1</td>\n",
       "      <td>0</td>\n",
       "      <td>1</td>\n",
       "    </tr>\n",
       "  </tbody>\n",
       "</table>\n",
       "</div>"
      ],
      "text/plain": [
       "   Atr3  Atr7  Atr17  Atr33  Atr34  Atr38  Class\n",
       "0     4     0      0      1      2      1      1\n",
       "1     4     0      4      2      3      4      1\n",
       "2     2     2      3      1      1      1      1\n",
       "3     3     3      3      2      2      3      1\n",
       "4     1     0      1      1      1      0      1"
      ]
     },
     "execution_count": 31,
     "metadata": {},
     "output_type": "execute_result"
    }
   ],
   "source": [
    "#From the list above, I chose the top 6 scores\n",
    "#Now, re-run the analysis with only the 6 most significant features\n",
    "new_divorce = divorce[['Atr3','Atr7','Atr17','Atr33','Atr34','Atr38','Class']]\n",
    "new_divorce.head()"
   ]
  },
  {
   "cell_type": "code",
   "execution_count": 32,
   "metadata": {},
   "outputs": [
    {
     "data": {
      "text/plain": [
       "array([[4, 0, 0, 1, 2, 1],\n",
       "       [4, 0, 4, 2, 3, 4],\n",
       "       [2, 2, 3, 1, 1, 1],\n",
       "       ...,\n",
       "       [0, 0, 0, 0, 1, 1],\n",
       "       [0, 0, 0, 0, 1, 0],\n",
       "       [0, 0, 0, 0, 0, 0]], dtype=int64)"
      ]
     },
     "execution_count": 32,
     "metadata": {},
     "output_type": "execute_result"
    }
   ],
   "source": [
    "#define new X\n",
    "new_X = new_divorce.iloc[:,0:6].values\n",
    "new_X"
   ]
  },
  {
   "cell_type": "code",
   "execution_count": 33,
   "metadata": {},
   "outputs": [
    {
     "data": {
      "text/plain": [
       "array([1, 1, 1, 1, 1, 1, 1, 1, 1, 1, 1, 1, 1, 1, 1, 1, 1, 1, 1, 1, 1, 1,\n",
       "       1, 1, 1, 1, 1, 1, 1, 1, 1, 1, 1, 1, 1, 1, 1, 1, 1, 1, 1, 1, 1, 1,\n",
       "       1, 1, 1, 1, 1, 1, 1, 1, 1, 1, 1, 1, 1, 1, 1, 1, 1, 1, 1, 1, 1, 1,\n",
       "       1, 1, 1, 1, 1, 1, 1, 1, 1, 1, 1, 1, 1, 1, 1, 1, 1, 1, 0, 0, 0, 0,\n",
       "       0, 0, 0, 0, 0, 0, 0, 0, 0, 0, 0, 0, 0, 0, 0, 0, 0, 0, 0, 0, 0, 0,\n",
       "       0, 0, 0, 0, 0, 0, 0, 0, 0, 0, 0, 0, 0, 0, 0, 0, 0, 0, 0, 0, 0, 0,\n",
       "       0, 0, 0, 0, 0, 0, 0, 0, 0, 0, 0, 0, 0, 0, 0, 0, 0, 0, 0, 0, 0, 0,\n",
       "       0, 0, 0, 0, 0, 0, 0, 0, 0, 0, 0, 0, 0, 0, 0, 0], dtype=int64)"
      ]
     },
     "execution_count": 33,
     "metadata": {},
     "output_type": "execute_result"
    }
   ],
   "source": [
    "#define new Y\n",
    "new_Y = new_divorce.iloc[:,6].values\n",
    "new_Y"
   ]
  },
  {
   "cell_type": "code",
   "execution_count": 34,
   "metadata": {},
   "outputs": [
    {
     "name": "stdout",
     "output_type": "stream",
     "text": [
      "(127, 6)\n",
      "(43, 6)\n",
      "(127,)\n",
      "(43,)\n"
     ]
    }
   ],
   "source": [
    "#Re-define training and test sets\n",
    "from sklearn.model_selection import train_test_split\n",
    "newX_train, newX_test, newY_train, newY_test = train_test_split(new_X, new_Y, test_size = 0.25, random_state = 0)\n",
    "print(newX_train.shape)\n",
    "print(newX_test.shape)\n",
    "print(newY_train.shape)\n",
    "print(newY_test.shape)"
   ]
  },
  {
   "cell_type": "code",
   "execution_count": 35,
   "metadata": {},
   "outputs": [
    {
     "data": {
      "text/plain": [
       "SVC(C=1.0, cache_size=200, class_weight=None, coef0=0.0,\n",
       "    decision_function_shape='ovr', degree=3, gamma='auto_deprecated',\n",
       "    kernel='linear', max_iter=-1, probability=False, random_state=0,\n",
       "    shrinking=True, tol=0.001, verbose=False)"
      ]
     },
     "execution_count": 35,
     "metadata": {},
     "output_type": "execute_result"
    }
   ],
   "source": [
    "#fit the model with the new data\n",
    "from sklearn.svm import SVC\n",
    "classifier = SVC(kernel = 'linear', random_state = 0)\n",
    "classifier.fit(newX_train, newY_train)"
   ]
  },
  {
   "cell_type": "code",
   "execution_count": 36,
   "metadata": {},
   "outputs": [],
   "source": [
    "#test out the new model\n",
    "newclassprediction = classifier.predict(newX_test)"
   ]
  },
  {
   "cell_type": "code",
   "execution_count": 37,
   "metadata": {},
   "outputs": [
    {
     "data": {
      "text/plain": [
       "array([[22,  0],\n",
       "       [ 1, 20]], dtype=int64)"
      ]
     },
     "execution_count": 37,
     "metadata": {},
     "output_type": "execute_result"
    }
   ],
   "source": [
    "#the matrix shows that the results have been improved\n",
    "from sklearn.metrics import confusion_matrix\n",
    "newcm = confusion_matrix(newY_test, newclassprediction)\n",
    "newcm"
   ]
  },
  {
   "cell_type": "code",
   "execution_count": 38,
   "metadata": {},
   "outputs": [
    {
     "data": {
      "text/plain": [
       "0.9767441860465116"
      ]
     },
     "execution_count": 38,
     "metadata": {},
     "output_type": "execute_result"
    }
   ],
   "source": [
    "#the accuracy is now 97.7%\n",
    "from sklearn import metrics\n",
    "newhowgood = metrics.accuracy_score(newY_test, newclassprediction)\n",
    "newhowgood "
   ]
  },
  {
   "cell_type": "markdown",
   "metadata": {},
   "source": [
    "# Discussion part 2"
   ]
  },
  {
   "cell_type": "markdown",
   "metadata": {},
   "source": [
    "In part 2, I was able to improve my accuracy to 97.7% by weeding out the questions that were not significant to the class. Now, I have a model that has almost 98% accuracy in prediction divorce based on only 6 quetions. I used chi squared to weed out the features that were not signigicant to the class. The chi-squared test measures dependance between variables, so it weeds out the feautures that are most likely to be independant of class, so I should not used them in the classification model. "
   ]
  },
  {
   "cell_type": "markdown",
   "metadata": {},
   "source": [
    "Discussion Question: \n",
    "Additionally, answer this question in your notebook:  In your own words, describe the concepts of bias, variance, and overfitting and how they could be used to evaluate models we build in this class.\n",
    "- Bias is essentially the metric that shows how well a line can capture the true relationship between two variables. Variance is about how well this line performs with different data sets. We could use these metrics in class to evaluate the quality of the models. A high quality model has low bias and low variability. Overfitting is when you drive the bias really low, but drive the variance very high. The low bias means the line can fit the data set very well, but when another dataset is introduced, it does very bad at fitting. If we see a model that has low bias but high variance, then we know that the model is probably over fit. Ideally, we want both the variance and bias to be low."
   ]
  }
 ],
 "metadata": {
  "kernelspec": {
   "display_name": "Python 3",
   "language": "python",
   "name": "python3"
  },
  "language_info": {
   "codemirror_mode": {
    "name": "ipython",
    "version": 3
   },
   "file_extension": ".py",
   "mimetype": "text/x-python",
   "name": "python",
   "nbconvert_exporter": "python",
   "pygments_lexer": "ipython3",
   "version": "3.7.3"
  }
 },
 "nbformat": 4,
 "nbformat_minor": 2
}
